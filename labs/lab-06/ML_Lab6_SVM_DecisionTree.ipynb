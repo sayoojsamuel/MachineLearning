{
  "nbformat": 4,
  "nbformat_minor": 0,
  "metadata": {
    "kernelspec": {
      "display_name": "Python 3",
      "language": "python",
      "name": "python3"
    },
    "language_info": {
      "codemirror_mode": {
        "name": "ipython",
        "version": 3
      },
      "file_extension": ".py",
      "mimetype": "text/x-python",
      "name": "python",
      "nbconvert_exporter": "python",
      "pygments_lexer": "ipython3",
      "version": "3.6.5"
    },
    "colab": {
      "name": "ML-Lab6-SVM-DecisionTree.ipynb",
      "provenance": []
    }
  },
  "cells": [
    {
      "cell_type": "markdown",
      "metadata": {
        "id": "M9zQ9MrpIAmh"
      },
      "source": [
        "# Machine Learning\n",
        "## Lab 06 | SVM and Decision Tree\n",
        "This is the codesheet for lab assignment dated November 8, 2020.  The task is to work with SVM and Decision Tree. "
      ]
    },
    {
      "cell_type": "markdown",
      "metadata": {
        "id": "9Q13f_9QIAmk"
      },
      "source": [
        "# SVM Implementation"
      ]
    },
    {
      "cell_type": "code",
      "metadata": {
        "id": "-USgWtfQIAmm"
      },
      "source": [
        "import numpy as np\n",
        "import pandas as pd\n",
        "import matplotlib.pyplot as plt"
      ],
      "execution_count": 4,
      "outputs": []
    },
    {
      "cell_type": "markdown",
      "metadata": {
        "id": "G1SgsxO1WrMp"
      },
      "source": [
        "1. Consider following two featured dataset.\n",
        "\n",
        "X1 = [1, 5, 1.5, 8, 1, 9]\n",
        "\n",
        "X2 = [2, 8, 1.8, 8, 0.6, 11]"
      ]
    },
    {
      "cell_type": "code",
      "metadata": {
        "id": "mbjycBnzIAmv",
        "colab": {
          "base_uri": "https://localhost:8080/"
        },
        "outputId": "af64e9b4-7db2-48a7-ca0f-eb022d352428"
      },
      "source": [
        "X1 = [1, 5, 1.5, 8, 1, 9]\n",
        "X2 = [2, 8, 1.8, 8, 0.6, 11]\n",
        "\n",
        "X  = pd.DataFrame(X1,X2)\n",
        "y  = [0,1,0,1,0,1]\n",
        "print(X)"
      ],
      "execution_count": null,
      "outputs": [
        {
          "output_type": "stream",
          "text": [
            "        0\n",
            "2.0   1.0\n",
            "8.0   5.0\n",
            "1.8   1.5\n",
            "8.0   8.0\n",
            "0.6   1.0\n",
            "11.0  9.0\n"
          ],
          "name": "stdout"
        }
      ]
    },
    {
      "cell_type": "markdown",
      "metadata": {
        "id": "_RspfgXLWzao"
      },
      "source": [
        "Plot the dataset using scatter plot.\n",
        "\n",
        "Create a matrix with above two features."
      ]
    },
    {
      "cell_type": "code",
      "metadata": {
        "id": "480yWrdqIAm3",
        "colab": {
          "base_uri": "https://localhost:8080/",
          "height": 265
        },
        "outputId": "5c9e94bf-259c-489e-9e1f-e90897b2b859"
      },
      "source": [
        "plt.scatter(X1,X2)\n",
        "plt.show()"
      ],
      "execution_count": null,
      "outputs": [
        {
          "output_type": "display_data",
          "data": {
            "image/png": "[encoded data removed]",
            "text/plain": [
              "<Figure size 432x288 with 1 Axes>"
            ]
          },
          "metadata": {
            "tags": [],
            "needs_background": "light"
          }
        }
      ]
    },
    {
      "cell_type": "code",
      "metadata": {
        "id": "38DB4MsIWnj2"
      },
      "source": [
        "from sklearn import svm, datasets, metrics\n",
        "from sklearn.linear_model import LogisticRegression\n",
        "from sklearn.neighbors import KNeighborsClassifier\n",
        "from sklearn.tree import DecisionTreeClassifier\n",
        "from sklearn.metrics import confusion_matrix, accuracy_score, classification_report\n",
        "from sklearn.model_selection import train_test_split\n",
        "from sklearn.preprocessing import LabelEncoder"
      ],
      "execution_count": 5,
      "outputs": []
    },
    {
      "cell_type": "markdown",
      "metadata": {
        "id": "g4HBmNMmW84w"
      },
      "source": [
        "Define svm classifier as follows\n",
        "\n",
        "clf = svm.SVC(kernel='linear', C = 1.0)\n",
        "\n",
        "In order to call this function, you need to import svm from sklearn\n",
        "\n",
        "from sklearn import svm"
      ]
    },
    {
      "cell_type": "code",
      "metadata": {
        "id": "-RrlY1b4IAnA",
        "colab": {
          "base_uri": "https://localhost:8080/"
        },
        "outputId": "140e52a2-31ee-44e6-cb72-e7f086d1bcb7"
      },
      "source": [
        "clf = svm.SVC(kernel='linear', C = 1.0)\n",
        "clf.fit(X,y)"
      ],
      "execution_count": null,
      "outputs": [
        {
          "output_type": "execute_result",
          "data": {
            "text/plain": [
              "SVC(C=1.0, break_ties=False, cache_size=200, class_weight=None, coef0=0.0,\n",
              "    decision_function_shape='ovr', degree=3, gamma='scale', kernel='linear',\n",
              "    max_iter=-1, probability=False, random_state=None, shrinking=True,\n",
              "    tol=0.001, verbose=False)"
            ]
          },
          "metadata": {
            "tags": []
          },
          "execution_count": 7
        }
      ]
    },
    {
      "cell_type": "code",
      "metadata": {
        "id": "x-qSfVHEIAnF",
        "colab": {
          "base_uri": "https://localhost:8080/"
        },
        "outputId": "bcb805a2-b75b-49ca-afb9-8b163fab13b8"
      },
      "source": [
        "print(clf.predict([[0.58],[0.76]]))\n",
        "print(clf.predict([[10.58],[10.76]]))"
      ],
      "execution_count": null,
      "outputs": [
        {
          "output_type": "stream",
          "text": [
            "[0 0]\n",
            "[1 1]\n"
          ],
          "name": "stdout"
        }
      ]
    },
    {
      "cell_type": "markdown",
      "metadata": {
        "id": "blpVk8JaX8Mq"
      },
      "source": [
        "2. Now, to visualize your data use the following code:"
      ]
    },
    {
      "cell_type": "code",
      "metadata": {
        "id": "N0uzWQMmIAnL",
        "colab": {
          "base_uri": "https://localhost:8080/",
          "height": 283
        },
        "outputId": "0766764b-1f0c-4531-bbf6-2fa8e991dcff"
      },
      "source": [
        "w = clf.coef_[0]\n",
        "print(w)\n",
        "a = -w[0]\n",
        "\n",
        "xx = np.linspace(0,12)\n",
        "yy = a * xx - clf.intercept_[0]\n",
        "\n",
        "h0 = plt.plot(xx, yy, 'k-', label=\"non weighted div\")\n",
        "plt.scatter(X1, X2, c = y)\n",
        "plt.show()"
      ],
      "execution_count": null,
      "outputs": [
        {
          "output_type": "stream",
          "text": [
            "[0.57142857]\n"
          ],
          "name": "stdout"
        },
        {
          "output_type": "display_data",
          "data": {
            "image/png": "[encoded data removed]",
            "text/plain": [
              "<Figure size 432x288 with 1 Axes>"
            ]
          },
          "metadata": {
            "tags": [],
            "needs_background": "light"
          }
        }
      ]
    },
    {
      "cell_type": "markdown",
      "metadata": {
        "id": "r-nEDcsBIAnS"
      },
      "source": [
        "## Using Iris Dataset"
      ]
    },
    {
      "cell_type": "markdown",
      "metadata": {
        "id": "2ypGTjfEIAnS"
      },
      "source": [
        "### Linear SVM Implementation"
      ]
    },
    {
      "cell_type": "markdown",
      "metadata": {
        "id": "VriP1vO3YYvH"
      },
      "source": [
        "3. Following is a simple python code that uses inbuilt function for classification using the concept of Support vector Machine"
      ]
    },
    {
      "cell_type": "code",
      "metadata": {
        "id": "1EYK1qoMIAnT",
        "colab": {
          "base_uri": "https://localhost:8080/"
        },
        "outputId": "e0f804d1-16e3-4c8d-c030-3c84e9b8f5f8"
      },
      "source": [
        "# Support Vector Machine\n",
        "\n",
        "from sklearn import datasets\n",
        "from sklearn import metrics\n",
        "from sklearn.svm import SVC\n",
        "# load the iris datasets\n",
        "dataset = datasets.load_iris()\n",
        "\n",
        "# fit a SVM model to the data\n",
        "model = SVC()\n",
        "model.fit(dataset.data, dataset.target)\n",
        "print(model)\n",
        "\n",
        "# make predictions\n",
        "expected = dataset.target\n",
        "predicted = model.predict(dataset.data)\n",
        "# summarize the fit of the model\n",
        "\n",
        "print(metrics.classification_report(expected, predicted))\n",
        "print(metrics.confusion_matrix(expected, predicted))"
      ],
      "execution_count": null,
      "outputs": [
        {
          "output_type": "stream",
          "text": [
            "SVC(C=1.0, break_ties=False, cache_size=200, class_weight=None, coef0=0.0,\n",
            "    decision_function_shape='ovr', degree=3, gamma='scale', kernel='rbf',\n",
            "    max_iter=-1, probability=False, random_state=None, shrinking=True,\n",
            "    tol=0.001, verbose=False)\n",
            "              precision    recall  f1-score   support\n",
            "\n",
            "           0       1.00      1.00      1.00        50\n",
            "           1       0.96      0.96      0.96        50\n",
            "           2       0.96      0.96      0.96        50\n",
            "\n",
            "    accuracy                           0.97       150\n",
            "   macro avg       0.97      0.97      0.97       150\n",
            "weighted avg       0.97      0.97      0.97       150\n",
            "\n",
            "[[50  0  0]\n",
            " [ 0 48  2]\n",
            " [ 0  2 48]]\n"
          ],
          "name": "stdout"
        }
      ]
    },
    {
      "cell_type": "markdown",
      "metadata": {
        "id": "D6kc8EwqIAnZ"
      },
      "source": [
        "### Knn implementation"
      ]
    },
    {
      "cell_type": "code",
      "metadata": {
        "id": "aCwq5KaKIAna",
        "colab": {
          "base_uri": "https://localhost:8080/"
        },
        "outputId": "7c3079a8-1487-4b3f-fac3-bfa5ee44dbea"
      },
      "source": [
        "classifier = KNeighborsClassifier(n_neighbors=5)\n",
        "classifier.fit(dataset.data, dataset.target)\n",
        "pre = classifier.predict(dataset.data)\n",
        "print(metrics.classification_report(dataset.target, pre))\n",
        "\n",
        "print(metrics.confusion_matrix(dataset.target, pre))"
      ],
      "execution_count": null,
      "outputs": [
        {
          "output_type": "stream",
          "text": [
            "              precision    recall  f1-score   support\n",
            "\n",
            "           0       1.00      1.00      1.00        50\n",
            "           1       0.96      0.94      0.95        50\n",
            "           2       0.94      0.96      0.95        50\n",
            "\n",
            "    accuracy                           0.97       150\n",
            "   macro avg       0.97      0.97      0.97       150\n",
            "weighted avg       0.97      0.97      0.97       150\n",
            "\n",
            "[[50  0  0]\n",
            " [ 0 47  3]\n",
            " [ 0  2 48]]\n"
          ],
          "name": "stdout"
        }
      ]
    },
    {
      "cell_type": "markdown",
      "metadata": {
        "id": "17G04-e3IAne"
      },
      "source": [
        "#### Logistic regression\n"
      ]
    },
    {
      "cell_type": "code",
      "metadata": {
        "id": "fdK_JhSjIAnf",
        "colab": {
          "base_uri": "https://localhost:8080/"
        },
        "outputId": "b897c65e-c989-439f-8b3c-c8e81febb821"
      },
      "source": [
        "clf = LogisticRegression(random_state=0).fit(dataset.data, dataset.target)\n",
        "pl = clf.predict(dataset.data)\n",
        "print(metrics.classification_report(dataset.target, pl))\n",
        "print(metrics.confusion_matrix(dataset.target, pl))"
      ],
      "execution_count": null,
      "outputs": [
        {
          "output_type": "stream",
          "text": [
            "              precision    recall  f1-score   support\n",
            "\n",
            "           0       1.00      1.00      1.00        50\n",
            "           1       0.98      0.94      0.96        50\n",
            "           2       0.94      0.98      0.96        50\n",
            "\n",
            "    accuracy                           0.97       150\n",
            "   macro avg       0.97      0.97      0.97       150\n",
            "weighted avg       0.97      0.97      0.97       150\n",
            "\n",
            "[[50  0  0]\n",
            " [ 0 47  3]\n",
            " [ 0  1 49]]\n"
          ],
          "name": "stdout"
        },
        {
          "output_type": "stream",
          "text": [
            "/usr/local/lib/python3.6/dist-packages/sklearn/linear_model/_logistic.py:940: ConvergenceWarning: lbfgs failed to converge (status=1):\n",
            "STOP: TOTAL NO. of ITERATIONS REACHED LIMIT.\n",
            "\n",
            "Increase the number of iterations (max_iter) or scale the data as shown in:\n",
            "    https://scikit-learn.org/stable/modules/preprocessing.html\n",
            "Please also refer to the documentation for alternative solver options:\n",
            "    https://scikit-learn.org/stable/modules/linear_model.html#logistic-regression\n",
            "  extra_warning_msg=_LOGISTIC_SOLVER_CONVERGENCE_MSG)\n"
          ],
          "name": "stderr"
        }
      ]
    },
    {
      "cell_type": "markdown",
      "metadata": {
        "id": "GuZizyBwIAnj"
      },
      "source": [
        "### SVM with RBF Kernel "
      ]
    },
    {
      "cell_type": "code",
      "metadata": {
        "id": "UHzLaH6yIAnk",
        "colab": {
          "base_uri": "https://localhost:8080/"
        },
        "outputId": "c9752c8b-d316-4430-f55b-1e73c7e49207"
      },
      "source": [
        "clf1 = svm.SVC(kernel='rbf', gamma=0.7, C=1)\n",
        "clf1.fit(dataset.data, dataset.target)\n",
        "\n",
        "print(clf1)\n",
        "\n",
        "predicted1 = clf1.predict(dataset.data)\n",
        "\n",
        "# summarize the fit of the model\n",
        "\n",
        "print(metrics.classification_report(dataset.target, predicted1))\n",
        "\n",
        "print(metrics.confusion_matrix(dataset.target, predicted1))\n"
      ],
      "execution_count": null,
      "outputs": [
        {
          "output_type": "stream",
          "text": [
            "SVC(C=1, break_ties=False, cache_size=200, class_weight=None, coef0=0.0,\n",
            "    decision_function_shape='ovr', degree=3, gamma=0.7, kernel='rbf',\n",
            "    max_iter=-1, probability=False, random_state=None, shrinking=True,\n",
            "    tol=0.001, verbose=False)\n",
            "              precision    recall  f1-score   support\n",
            "\n",
            "           0       1.00      1.00      1.00        50\n",
            "           1       1.00      0.94      0.97        50\n",
            "           2       0.94      1.00      0.97        50\n",
            "\n",
            "    accuracy                           0.98       150\n",
            "   macro avg       0.98      0.98      0.98       150\n",
            "weighted avg       0.98      0.98      0.98       150\n",
            "\n",
            "[[50  0  0]\n",
            " [ 0 47  3]\n",
            " [ 0  0 50]]\n"
          ],
          "name": "stdout"
        }
      ]
    },
    {
      "cell_type": "markdown",
      "metadata": {
        "id": "dCBfko2KIAno"
      },
      "source": [
        "### SVM Implementation using Poly Kernel"
      ]
    },
    {
      "cell_type": "code",
      "metadata": {
        "id": "NgbSItV1IAnp",
        "colab": {
          "base_uri": "https://localhost:8080/"
        },
        "outputId": "3c027e01-d5f2-4764-ed75-6684201c487e"
      },
      "source": [
        "clf2 = svm.SVC(kernel='poly', degree=3, C=1)\n",
        "\n",
        "clf2.fit(dataset.data, dataset.target)\n",
        "\n",
        "print(clf2)\n",
        "\n",
        "predicted2 = clf2.predict(dataset.data)\n",
        "\n",
        "# summarize the fit of the model\n",
        "\n",
        "print(metrics.classification_report(dataset.target, predicted2))\n",
        "\n",
        "print(metrics.confusion_matrix(dataset.target, predicted2))\n"
      ],
      "execution_count": null,
      "outputs": [
        {
          "output_type": "stream",
          "text": [
            "SVC(C=1, break_ties=False, cache_size=200, class_weight=None, coef0=0.0,\n",
            "    decision_function_shape='ovr', degree=3, gamma='scale', kernel='poly',\n",
            "    max_iter=-1, probability=False, random_state=None, shrinking=True,\n",
            "    tol=0.001, verbose=False)\n",
            "              precision    recall  f1-score   support\n",
            "\n",
            "           0       1.00      1.00      1.00        50\n",
            "           1       1.00      0.92      0.96        50\n",
            "           2       0.93      1.00      0.96        50\n",
            "\n",
            "    accuracy                           0.97       150\n",
            "   macro avg       0.98      0.97      0.97       150\n",
            "weighted avg       0.98      0.97      0.97       150\n",
            "\n",
            "[[50  0  0]\n",
            " [ 0 46  4]\n",
            " [ 0  0 50]]\n"
          ],
          "name": "stdout"
        }
      ]
    },
    {
      "cell_type": "markdown",
      "metadata": {
        "id": "Fs1NBQ_sIAnv"
      },
      "source": [
        "### Accuracy Comparision"
      ]
    },
    {
      "cell_type": "code",
      "metadata": {
        "id": "j8FBzUaYIAnw",
        "colab": {
          "base_uri": "https://localhost:8080/"
        },
        "outputId": "373d0990-3ef0-49e6-d858-9bb512d113d1"
      },
      "source": [
        "print(\"Accuracy SVM \", accuracy_score(dataset.target,predicted))\n",
        "print(\"KNN Accuracy \",accuracy_score(dataset.target,pre))\n",
        "print(\"Acccuracy logistic regression \",accuracy_score(dataset.target,pl) )"
      ],
      "execution_count": null,
      "outputs": [
        {
          "output_type": "stream",
          "text": [
            "Accuracy SVM  0.9733333333333334\n",
            "KNN Accuracy  0.9666666666666667\n",
            "Acccuracy logistic regression  0.9733333333333334\n"
          ],
          "name": "stdout"
        }
      ]
    },
    {
      "cell_type": "markdown",
      "metadata": {
        "id": "GvqBSPp-IAn0"
      },
      "source": [
        "## SVM Kernel test\n"
      ]
    },
    {
      "cell_type": "code",
      "metadata": {
        "id": "flsdaKx_IAn1",
        "colab": {
          "base_uri": "https://localhost:8080/"
        },
        "outputId": "89a4b807-1cda-460f-dd0e-fda2556b2877"
      },
      "source": [
        "print(\"Accuracy SVM with linear kernel \", accuracy_score(dataset.target,predicted))\n",
        "print(\"Accuracy SVM with rbf kernel \",accuracy_score(dataset.target,predicted1))\n",
        "print(\"Accuracy SVM with poly kernel \",accuracy_score(dataset.target,predicted2))"
      ],
      "execution_count": null,
      "outputs": [
        {
          "output_type": "stream",
          "text": [
            "Accuracy SVM with linear kernel  0.9733333333333334\n",
            "Accuracy SVM with rbf kernel  0.98\n",
            "Accuracy SVM with poly kernel  0.9733333333333334\n"
          ],
          "name": "stdout"
        }
      ]
    },
    {
      "cell_type": "markdown",
      "metadata": {
        "id": "Bf_Wic9nIAn6"
      },
      "source": [
        "Accuracy of logistic < KNN < SVM \n"
      ]
    },
    {
      "cell_type": "code",
      "metadata": {
        "id": "m4lET8877lQe"
      },
      "source": [
        ""
      ],
      "execution_count": null,
      "outputs": []
    },
    {
      "cell_type": "markdown",
      "metadata": {
        "id": "RkjygPTYIAn7"
      },
      "source": [
        "# Decision Tree on Car Dataset"
      ]
    },
    {
      "cell_type": "markdown",
      "metadata": {
        "id": "j-xOrhDKIAn8"
      },
      "source": [
        "Given the car dataset and its attribute description perform the following:\n",
        "\n",
        "1. Read the data and split data into training and test set."
      ]
    },
    {
      "cell_type": "code",
      "metadata": {
        "id": "qe4tTjp9IAn8",
        "colab": {
          "base_uri": "https://localhost:8080/",
          "height": 359
        },
        "outputId": "2fb46862-24fc-45d4-a805-9f47e8c3c6b4"
      },
      "source": [
        "dataset_url = \"https://raw.githubusercontent.com/sayoojsamuel/MachineLearning/master/labs/lab-06/car.csv\"\n",
        "df = pd.read_csv(dataset_url)\n",
        "df.head(10)"
      ],
      "execution_count": 6,
      "outputs": [
        {
          "output_type": "execute_result",
          "data": {
            "text/html": [
              "<div>\n",
              "<style scoped>\n",
              "    .dataframe tbody tr th:only-of-type {\n",
              "        vertical-align: middle;\n",
              "    }\n",
              "\n",
              "    .dataframe tbody tr th {\n",
              "        vertical-align: top;\n",
              "    }\n",
              "\n",
              "    .dataframe thead th {\n",
              "        text-align: right;\n",
              "    }\n",
              "</style>\n",
              "<table border=\"1\" class=\"dataframe\">\n",
              "  <thead>\n",
              "    <tr style=\"text-align: right;\">\n",
              "      <th></th>\n",
              "      <th>vhigh</th>\n",
              "      <th>vhigh.1</th>\n",
              "      <th>2</th>\n",
              "      <th>2.1</th>\n",
              "      <th>small</th>\n",
              "      <th>low</th>\n",
              "      <th>unacc</th>\n",
              "    </tr>\n",
              "  </thead>\n",
              "  <tbody>\n",
              "    <tr>\n",
              "      <th>0</th>\n",
              "      <td>vhigh</td>\n",
              "      <td>vhigh</td>\n",
              "      <td>2</td>\n",
              "      <td>2</td>\n",
              "      <td>small</td>\n",
              "      <td>med</td>\n",
              "      <td>unacc</td>\n",
              "    </tr>\n",
              "    <tr>\n",
              "      <th>1</th>\n",
              "      <td>vhigh</td>\n",
              "      <td>vhigh</td>\n",
              "      <td>2</td>\n",
              "      <td>2</td>\n",
              "      <td>small</td>\n",
              "      <td>high</td>\n",
              "      <td>unacc</td>\n",
              "    </tr>\n",
              "    <tr>\n",
              "      <th>2</th>\n",
              "      <td>vhigh</td>\n",
              "      <td>vhigh</td>\n",
              "      <td>2</td>\n",
              "      <td>2</td>\n",
              "      <td>med</td>\n",
              "      <td>low</td>\n",
              "      <td>unacc</td>\n",
              "    </tr>\n",
              "    <tr>\n",
              "      <th>3</th>\n",
              "      <td>vhigh</td>\n",
              "      <td>vhigh</td>\n",
              "      <td>2</td>\n",
              "      <td>2</td>\n",
              "      <td>med</td>\n",
              "      <td>med</td>\n",
              "      <td>unacc</td>\n",
              "    </tr>\n",
              "    <tr>\n",
              "      <th>4</th>\n",
              "      <td>vhigh</td>\n",
              "      <td>vhigh</td>\n",
              "      <td>2</td>\n",
              "      <td>2</td>\n",
              "      <td>med</td>\n",
              "      <td>high</td>\n",
              "      <td>unacc</td>\n",
              "    </tr>\n",
              "    <tr>\n",
              "      <th>5</th>\n",
              "      <td>vhigh</td>\n",
              "      <td>vhigh</td>\n",
              "      <td>2</td>\n",
              "      <td>2</td>\n",
              "      <td>big</td>\n",
              "      <td>low</td>\n",
              "      <td>unacc</td>\n",
              "    </tr>\n",
              "    <tr>\n",
              "      <th>6</th>\n",
              "      <td>vhigh</td>\n",
              "      <td>vhigh</td>\n",
              "      <td>2</td>\n",
              "      <td>2</td>\n",
              "      <td>big</td>\n",
              "      <td>med</td>\n",
              "      <td>unacc</td>\n",
              "    </tr>\n",
              "    <tr>\n",
              "      <th>7</th>\n",
              "      <td>vhigh</td>\n",
              "      <td>vhigh</td>\n",
              "      <td>2</td>\n",
              "      <td>2</td>\n",
              "      <td>big</td>\n",
              "      <td>high</td>\n",
              "      <td>unacc</td>\n",
              "    </tr>\n",
              "    <tr>\n",
              "      <th>8</th>\n",
              "      <td>vhigh</td>\n",
              "      <td>vhigh</td>\n",
              "      <td>2</td>\n",
              "      <td>4</td>\n",
              "      <td>small</td>\n",
              "      <td>low</td>\n",
              "      <td>unacc</td>\n",
              "    </tr>\n",
              "    <tr>\n",
              "      <th>9</th>\n",
              "      <td>vhigh</td>\n",
              "      <td>vhigh</td>\n",
              "      <td>2</td>\n",
              "      <td>4</td>\n",
              "      <td>small</td>\n",
              "      <td>med</td>\n",
              "      <td>unacc</td>\n",
              "    </tr>\n",
              "  </tbody>\n",
              "</table>\n",
              "</div>"
            ],
            "text/plain": [
              "   vhigh vhigh.1  2 2.1  small   low  unacc\n",
              "0  vhigh   vhigh  2   2  small   med  unacc\n",
              "1  vhigh   vhigh  2   2  small  high  unacc\n",
              "2  vhigh   vhigh  2   2    med   low  unacc\n",
              "3  vhigh   vhigh  2   2    med   med  unacc\n",
              "4  vhigh   vhigh  2   2    med  high  unacc\n",
              "5  vhigh   vhigh  2   2    big   low  unacc\n",
              "6  vhigh   vhigh  2   2    big   med  unacc\n",
              "7  vhigh   vhigh  2   2    big  high  unacc\n",
              "8  vhigh   vhigh  2   4  small   low  unacc\n",
              "9  vhigh   vhigh  2   4  small   med  unacc"
            ]
          },
          "metadata": {
            "tags": []
          },
          "execution_count": 6
        }
      ]
    },
    {
      "cell_type": "code",
      "metadata": {
        "id": "MWGBHDi4IAoE"
      },
      "source": [
        "df = df.rename(columns = {\"vhigh\":\"buying\",\"vhigh.1\":\"maint\",\"2\":\"doors\",\"2.1\":\"persons\",\"small\":\"lug_boot\",\"low\":\"safety\",\"unacc\":\"acceptance\"}) "
      ],
      "execution_count": 7,
      "outputs": []
    },
    {
      "cell_type": "code",
      "metadata": {
        "id": "WW93IzFcIAoK",
        "colab": {
          "base_uri": "https://localhost:8080/",
          "height": 359
        },
        "outputId": "a8aa1cca-af86-43b1-a4e0-0ccc4d63a2c6"
      },
      "source": [
        "df.head(10)"
      ],
      "execution_count": 8,
      "outputs": [
        {
          "output_type": "execute_result",
          "data": {
            "text/html": [
              "<div>\n",
              "<style scoped>\n",
              "    .dataframe tbody tr th:only-of-type {\n",
              "        vertical-align: middle;\n",
              "    }\n",
              "\n",
              "    .dataframe tbody tr th {\n",
              "        vertical-align: top;\n",
              "    }\n",
              "\n",
              "    .dataframe thead th {\n",
              "        text-align: right;\n",
              "    }\n",
              "</style>\n",
              "<table border=\"1\" class=\"dataframe\">\n",
              "  <thead>\n",
              "    <tr style=\"text-align: right;\">\n",
              "      <th></th>\n",
              "      <th>buying</th>\n",
              "      <th>maint</th>\n",
              "      <th>doors</th>\n",
              "      <th>persons</th>\n",
              "      <th>lug_boot</th>\n",
              "      <th>safety</th>\n",
              "      <th>acceptance</th>\n",
              "    </tr>\n",
              "  </thead>\n",
              "  <tbody>\n",
              "    <tr>\n",
              "      <th>0</th>\n",
              "      <td>vhigh</td>\n",
              "      <td>vhigh</td>\n",
              "      <td>2</td>\n",
              "      <td>2</td>\n",
              "      <td>small</td>\n",
              "      <td>med</td>\n",
              "      <td>unacc</td>\n",
              "    </tr>\n",
              "    <tr>\n",
              "      <th>1</th>\n",
              "      <td>vhigh</td>\n",
              "      <td>vhigh</td>\n",
              "      <td>2</td>\n",
              "      <td>2</td>\n",
              "      <td>small</td>\n",
              "      <td>high</td>\n",
              "      <td>unacc</td>\n",
              "    </tr>\n",
              "    <tr>\n",
              "      <th>2</th>\n",
              "      <td>vhigh</td>\n",
              "      <td>vhigh</td>\n",
              "      <td>2</td>\n",
              "      <td>2</td>\n",
              "      <td>med</td>\n",
              "      <td>low</td>\n",
              "      <td>unacc</td>\n",
              "    </tr>\n",
              "    <tr>\n",
              "      <th>3</th>\n",
              "      <td>vhigh</td>\n",
              "      <td>vhigh</td>\n",
              "      <td>2</td>\n",
              "      <td>2</td>\n",
              "      <td>med</td>\n",
              "      <td>med</td>\n",
              "      <td>unacc</td>\n",
              "    </tr>\n",
              "    <tr>\n",
              "      <th>4</th>\n",
              "      <td>vhigh</td>\n",
              "      <td>vhigh</td>\n",
              "      <td>2</td>\n",
              "      <td>2</td>\n",
              "      <td>med</td>\n",
              "      <td>high</td>\n",
              "      <td>unacc</td>\n",
              "    </tr>\n",
              "    <tr>\n",
              "      <th>5</th>\n",
              "      <td>vhigh</td>\n",
              "      <td>vhigh</td>\n",
              "      <td>2</td>\n",
              "      <td>2</td>\n",
              "      <td>big</td>\n",
              "      <td>low</td>\n",
              "      <td>unacc</td>\n",
              "    </tr>\n",
              "    <tr>\n",
              "      <th>6</th>\n",
              "      <td>vhigh</td>\n",
              "      <td>vhigh</td>\n",
              "      <td>2</td>\n",
              "      <td>2</td>\n",
              "      <td>big</td>\n",
              "      <td>med</td>\n",
              "      <td>unacc</td>\n",
              "    </tr>\n",
              "    <tr>\n",
              "      <th>7</th>\n",
              "      <td>vhigh</td>\n",
              "      <td>vhigh</td>\n",
              "      <td>2</td>\n",
              "      <td>2</td>\n",
              "      <td>big</td>\n",
              "      <td>high</td>\n",
              "      <td>unacc</td>\n",
              "    </tr>\n",
              "    <tr>\n",
              "      <th>8</th>\n",
              "      <td>vhigh</td>\n",
              "      <td>vhigh</td>\n",
              "      <td>2</td>\n",
              "      <td>4</td>\n",
              "      <td>small</td>\n",
              "      <td>low</td>\n",
              "      <td>unacc</td>\n",
              "    </tr>\n",
              "    <tr>\n",
              "      <th>9</th>\n",
              "      <td>vhigh</td>\n",
              "      <td>vhigh</td>\n",
              "      <td>2</td>\n",
              "      <td>4</td>\n",
              "      <td>small</td>\n",
              "      <td>med</td>\n",
              "      <td>unacc</td>\n",
              "    </tr>\n",
              "  </tbody>\n",
              "</table>\n",
              "</div>"
            ],
            "text/plain": [
              "  buying  maint doors persons lug_boot safety acceptance\n",
              "0  vhigh  vhigh     2       2    small    med      unacc\n",
              "1  vhigh  vhigh     2       2    small   high      unacc\n",
              "2  vhigh  vhigh     2       2      med    low      unacc\n",
              "3  vhigh  vhigh     2       2      med    med      unacc\n",
              "4  vhigh  vhigh     2       2      med   high      unacc\n",
              "5  vhigh  vhigh     2       2      big    low      unacc\n",
              "6  vhigh  vhigh     2       2      big    med      unacc\n",
              "7  vhigh  vhigh     2       2      big   high      unacc\n",
              "8  vhigh  vhigh     2       4    small    low      unacc\n",
              "9  vhigh  vhigh     2       4    small    med      unacc"
            ]
          },
          "metadata": {
            "tags": []
          },
          "execution_count": 8
        }
      ]
    },
    {
      "cell_type": "code",
      "metadata": {
        "id": "CL8iuTbXIAoQ"
      },
      "source": [
        "space = {'low':1, 'med':2,'high':3,'vhigh':4}\n",
        "df['buying'] = [space[i] for i in df['buying']]\n",
        "df['maint'] = [space[i] for i in df['maint']]\n",
        "\n",
        "area = {'small':1,'med':2,'big':3}\n",
        "df['lug_boot'] =  [area[i] for i in df['lug_boot']]\n",
        "\n",
        "area2 = {'low':1,'med':2,'high':3}\n",
        "df['safety'] =  [area2[i] for i in df['safety']]\n",
        "\n",
        "acceptance = {'unacc':1,'acc':2,'good':3,'vgood':4}\n",
        "df['acceptance'] = [acceptance[i] for i in df['acceptance']]\n",
        "\n",
        "door2 = {'5more':5,'2':2,'3':3,'4':4}\n",
        "df['doors'] = [ door2[i] for i in df['doors']]\n",
        "\n",
        "mmin = {'more':5,'2':2,\"4\":4}\n",
        "df['persons'] = [mmin[i] for i in df['persons']]\n"
      ],
      "execution_count": 9,
      "outputs": []
    },
    {
      "cell_type": "code",
      "metadata": {
        "colab": {
          "base_uri": "https://localhost:8080/",
          "height": 359
        },
        "id": "qYonsoco6Qmr",
        "outputId": "ae7f66b1-8aa4-41ff-baea-27a742a5adfa"
      },
      "source": [
        "df.head(10)\n"
      ],
      "execution_count": 10,
      "outputs": [
        {
          "output_type": "execute_result",
          "data": {
            "text/html": [
              "<div>\n",
              "<style scoped>\n",
              "    .dataframe tbody tr th:only-of-type {\n",
              "        vertical-align: middle;\n",
              "    }\n",
              "\n",
              "    .dataframe tbody tr th {\n",
              "        vertical-align: top;\n",
              "    }\n",
              "\n",
              "    .dataframe thead th {\n",
              "        text-align: right;\n",
              "    }\n",
              "</style>\n",
              "<table border=\"1\" class=\"dataframe\">\n",
              "  <thead>\n",
              "    <tr style=\"text-align: right;\">\n",
              "      <th></th>\n",
              "      <th>buying</th>\n",
              "      <th>maint</th>\n",
              "      <th>doors</th>\n",
              "      <th>persons</th>\n",
              "      <th>lug_boot</th>\n",
              "      <th>safety</th>\n",
              "      <th>acceptance</th>\n",
              "    </tr>\n",
              "  </thead>\n",
              "  <tbody>\n",
              "    <tr>\n",
              "      <th>0</th>\n",
              "      <td>4</td>\n",
              "      <td>4</td>\n",
              "      <td>2</td>\n",
              "      <td>2</td>\n",
              "      <td>1</td>\n",
              "      <td>2</td>\n",
              "      <td>1</td>\n",
              "    </tr>\n",
              "    <tr>\n",
              "      <th>1</th>\n",
              "      <td>4</td>\n",
              "      <td>4</td>\n",
              "      <td>2</td>\n",
              "      <td>2</td>\n",
              "      <td>1</td>\n",
              "      <td>3</td>\n",
              "      <td>1</td>\n",
              "    </tr>\n",
              "    <tr>\n",
              "      <th>2</th>\n",
              "      <td>4</td>\n",
              "      <td>4</td>\n",
              "      <td>2</td>\n",
              "      <td>2</td>\n",
              "      <td>2</td>\n",
              "      <td>1</td>\n",
              "      <td>1</td>\n",
              "    </tr>\n",
              "    <tr>\n",
              "      <th>3</th>\n",
              "      <td>4</td>\n",
              "      <td>4</td>\n",
              "      <td>2</td>\n",
              "      <td>2</td>\n",
              "      <td>2</td>\n",
              "      <td>2</td>\n",
              "      <td>1</td>\n",
              "    </tr>\n",
              "    <tr>\n",
              "      <th>4</th>\n",
              "      <td>4</td>\n",
              "      <td>4</td>\n",
              "      <td>2</td>\n",
              "      <td>2</td>\n",
              "      <td>2</td>\n",
              "      <td>3</td>\n",
              "      <td>1</td>\n",
              "    </tr>\n",
              "    <tr>\n",
              "      <th>5</th>\n",
              "      <td>4</td>\n",
              "      <td>4</td>\n",
              "      <td>2</td>\n",
              "      <td>2</td>\n",
              "      <td>3</td>\n",
              "      <td>1</td>\n",
              "      <td>1</td>\n",
              "    </tr>\n",
              "    <tr>\n",
              "      <th>6</th>\n",
              "      <td>4</td>\n",
              "      <td>4</td>\n",
              "      <td>2</td>\n",
              "      <td>2</td>\n",
              "      <td>3</td>\n",
              "      <td>2</td>\n",
              "      <td>1</td>\n",
              "    </tr>\n",
              "    <tr>\n",
              "      <th>7</th>\n",
              "      <td>4</td>\n",
              "      <td>4</td>\n",
              "      <td>2</td>\n",
              "      <td>2</td>\n",
              "      <td>3</td>\n",
              "      <td>3</td>\n",
              "      <td>1</td>\n",
              "    </tr>\n",
              "    <tr>\n",
              "      <th>8</th>\n",
              "      <td>4</td>\n",
              "      <td>4</td>\n",
              "      <td>2</td>\n",
              "      <td>4</td>\n",
              "      <td>1</td>\n",
              "      <td>1</td>\n",
              "      <td>1</td>\n",
              "    </tr>\n",
              "    <tr>\n",
              "      <th>9</th>\n",
              "      <td>4</td>\n",
              "      <td>4</td>\n",
              "      <td>2</td>\n",
              "      <td>4</td>\n",
              "      <td>1</td>\n",
              "      <td>2</td>\n",
              "      <td>1</td>\n",
              "    </tr>\n",
              "  </tbody>\n",
              "</table>\n",
              "</div>"
            ],
            "text/plain": [
              "   buying  maint  doors  persons  lug_boot  safety  acceptance\n",
              "0       4      4      2        2         1       2           1\n",
              "1       4      4      2        2         1       3           1\n",
              "2       4      4      2        2         2       1           1\n",
              "3       4      4      2        2         2       2           1\n",
              "4       4      4      2        2         2       3           1\n",
              "5       4      4      2        2         3       1           1\n",
              "6       4      4      2        2         3       2           1\n",
              "7       4      4      2        2         3       3           1\n",
              "8       4      4      2        4         1       1           1\n",
              "9       4      4      2        4         1       2           1"
            ]
          },
          "metadata": {
            "tags": []
          },
          "execution_count": 10
        }
      ]
    },
    {
      "cell_type": "code",
      "metadata": {
        "id": "CPy5bRO2IAoT",
        "colab": {
          "base_uri": "https://localhost:8080/"
        },
        "outputId": "36ff2a8b-2ef1-41e4-d076-d99544cc5124"
      },
      "source": [
        "data_crosstab1 = pd.crosstab(df['acceptance'], df['buying'], margins = False)\n",
        "data_crosstab2 = pd.crosstab(df['acceptance'], df['maint'], margins = False)\n",
        "data_crosstab3 = pd.crosstab(df['acceptance'], df['doors'], margins = False)\n",
        "data_crosstab4 = pd.crosstab(df['acceptance'], df['persons'], margins = False)\n",
        "data_crosstab5 = pd.crosstab(df['acceptance'], df['lug_boot'], margins = False)\n",
        "data_crosstab6 = pd.crosstab(df['acceptance'], df['safety'], margins = False)\n",
        "print(data_crosstab1)\n",
        "print(data_crosstab1.iloc[0])\n",
        "print(data_crosstab1.iloc[0][1])"
      ],
      "execution_count": 11,
      "outputs": [
        {
          "output_type": "stream",
          "text": [
            "buying        1    2    3    4\n",
            "acceptance                    \n",
            "1           258  268  324  359\n",
            "2            89  115  108   72\n",
            "3            46   23    0    0\n",
            "4            39   26    0    0\n",
            "buying\n",
            "1    258\n",
            "2    268\n",
            "3    324\n",
            "4    359\n",
            "Name: 1, dtype: int64\n",
            "258\n"
          ],
          "name": "stdout"
        }
      ]
    },
    {
      "cell_type": "code",
      "metadata": {
        "id": "ZHfC_Pj7IAof"
      },
      "source": [
        "y = df['acceptance']\n",
        "df.drop('acceptance',axis='columns', inplace=True)\n",
        "X_train, X_test, y_train, y_test = train_test_split(df, y, test_size=0.2)"
      ],
      "execution_count": 21,
      "outputs": []
    },
    {
      "cell_type": "code",
      "metadata": {
        "colab": {
          "base_uri": "https://localhost:8080/"
        },
        "id": "aJ4AUp4jUtOY",
        "outputId": "943f1399-adfe-40ac-90c8-8a12f880d14e"
      },
      "source": [
        "def entropy(target_col):\n",
        "    elements,counts = np.unique(\n",
        "        target_col,\n",
        "        return_counts = True\n",
        "    )\n",
        "    sum = 0\n",
        "    for i, elem in enumerate(elements):\n",
        "      varr =  (-counts[i]/np.sum(counts))\n",
        "      sum += varr * np.log2(counts[i]/np.sum(counts))\n",
        "    return sum\n",
        "    \n",
        "print(\"Entropy of buying: \", entropy(df['buying']))"
      ],
      "execution_count": 16,
      "outputs": [
        {
          "output_type": "stream",
          "text": [
            "Entropy of buying:  1.9999992741466097\n"
          ],
          "name": "stdout"
        }
      ]
    },
    {
      "cell_type": "code",
      "metadata": {
        "id": "SEAhoK9xUvES"
      },
      "source": [
        ""
      ],
      "execution_count": null,
      "outputs": []
    },
    {
      "cell_type": "markdown",
      "metadata": {
        "id": "28tg78nsV0Xz"
      },
      "source": [
        "## Decision Trees\n",
        "https://amritauniv.sharepoint.com/:w:/r/sites/MachineLearning-July-Dec-2020/_layouts/15/Doc.aspx?sourcedoc=%7B73E596F6-1BF5-4AB7-B0CC-2D8B66CE7B34%7D&file=Lab%20Sheet%206_Decision%20Trees.docx&action=default&mobileredirect=true"
      ]
    },
    {
      "cell_type": "markdown",
      "metadata": {
        "id": "XrunuaTPV5_5"
      },
      "source": [
        "### Entropy"
      ]
    },
    {
      "cell_type": "code",
      "metadata": {
        "id": "1i1fj9i3V0HM"
      },
      "source": [
        "def train(X_train, X_test, y_train): \n",
        "  \n",
        "    # Decision tree with entropy \n",
        "    clf_entropy = DecisionTreeClassifier( \n",
        "            criterion = \"entropy\", \n",
        "            random_state = 100, \n",
        "            max_depth = 3, \n",
        "            min_samples_leaf = 5\n",
        "    ) \n",
        "  \n",
        "    # Performing training \n",
        "    clf_entropy.fit(X_train, y_train) \n",
        "    return clf_entropy  "
      ],
      "execution_count": 17,
      "outputs": []
    },
    {
      "cell_type": "code",
      "metadata": {
        "id": "1HDULYehWHHR"
      },
      "source": [
        "def predict(X_test, clf_object): \n",
        "  \n",
        "    # Predicton on test with giniIndex \n",
        "    y_pred = clf_object.predict(X_test) \n",
        "    print(\"Predicted values:\") \n",
        "    print(y_pred) \n",
        "    return y_pred "
      ],
      "execution_count": 18,
      "outputs": []
    },
    {
      "cell_type": "code",
      "metadata": {
        "id": "XwrlpUhBWLkb"
      },
      "source": [
        "def accuracyScore(y_test, y_pred): \n",
        "      \n",
        "    print(\"Confusion Matrix: \", \n",
        "        confusion_matrix(y_test, y_pred)) \n",
        "      \n",
        "    print (\"Accuracy : \", \n",
        "    accuracy_score(y_test,y_pred)*100) \n",
        "      \n",
        "    print(\"Report : \", \n",
        "    classification_report(y_test, y_pred)) "
      ],
      "execution_count": 19,
      "outputs": []
    },
    {
      "cell_type": "code",
      "metadata": {
        "colab": {
          "base_uri": "https://localhost:8080/"
        },
        "id": "vGXjfqiWWTlx",
        "outputId": "7f10d3f8-be0d-45b2-c643-385966078c03"
      },
      "source": [
        "# Invoke the triaining, and predict the results for the test\n",
        "clf = train(X_train, X_test, y_train) \n",
        "   \n",
        "print(\"Applying Entropy for prediction:\")\n",
        "\n",
        "pred_dt = predict(X_test, clf) \n"
      ],
      "execution_count": 23,
      "outputs": [
        {
          "output_type": "stream",
          "text": [
            "Applying Entropy for prediction:\n",
            "Predicted values:\n",
            "[1 1 1 1 1 1 1 1 2 1 1 2 1 1 1 1 1 1 2 1 2 1 2 1 2 1 1 2 1 1 1 2 1 1 1 1 2\n",
            " 1 1 1 1 1 1 1 1 1 1 1 1 1 1 1 2 1 1 1 2 1 1 1 1 1 1 2 1 1 1 1 1 2 1 1 1 2\n",
            " 1 1 2 1 1 1 1 1 1 1 1 1 1 1 1 1 2 1 1 1 2 1 1 1 1 1 1 1 2 1 1 1 1 1 2 1 1\n",
            " 1 1 1 1 1 2 2 2 1 1 1 1 1 2 2 1 1 1 1 1 1 1 1 1 2 1 2 1 1 1 2 1 1 1 2 1 1\n",
            " 1 2 1 1 1 1 1 1 1 1 1 1 2 1 1 1 1 1 1 2 2 1 1 1 1 1 2 1 1 1 1 2 1 1 1 1 2\n",
            " 1 1 1 2 1 1 1 2 1 1 1 1 1 2 1 1 1 1 1 2 1 1 2 1 2 1 1 1 1 1 1 1 1 1 1 1 1\n",
            " 1 2 1 1 2 1 2 2 1 1 1 1 1 1 1 1 1 1 2 2 2 1 1 1 1 1 1 1 1 2 2 1 2 1 1 1 2\n",
            " 2 1 1 2 2 1 1 1 1 1 1 1 1 1 1 1 2 2 1 2 1 1 2 1 2 1 1 1 2 1 2 1 1 2 1 1 1\n",
            " 1 1 1 2 1 1 1 2 1 1 1 1 2 1 1 1 2 2 1 1 1 2 2 1 1 1 1 1 1 2 1 1 1 1 2 1 2\n",
            " 1 2 1 1 1 1 1 1 2 1 1 2 1]\n"
          ],
          "name": "stdout"
        }
      ]
    },
    {
      "cell_type": "code",
      "metadata": {
        "id": "bZJJBKvVWUxh"
      },
      "source": [
        ""
      ],
      "execution_count": null,
      "outputs": []
    },
    {
      "cell_type": "code",
      "metadata": {
        "colab": {
          "base_uri": "https://localhost:8080/"
        },
        "id": "x3F5rDSSWqOs",
        "outputId": "7c2de5b2-2eb8-40a6-944a-cfcb3ba8765d"
      },
      "source": [
        "# Perform accuracy testing\n",
        "accuracyScore(y_test, pred_dt) "
      ],
      "execution_count": 24,
      "outputs": [
        {
          "output_type": "stream",
          "text": [
            "Confusion Matrix:  [[237   8   0   0]\n",
            " [ 33  43   0   0]\n",
            " [  0   8   0   0]\n",
            " [  0  17   0   0]]\n",
            "Accuracy :  80.92485549132948\n",
            "Report :                precision    recall  f1-score   support\n",
            "\n",
            "           1       0.88      0.97      0.92       245\n",
            "           2       0.57      0.57      0.57        76\n",
            "           3       0.00      0.00      0.00         8\n",
            "           4       0.00      0.00      0.00        17\n",
            "\n",
            "    accuracy                           0.81       346\n",
            "   macro avg       0.36      0.38      0.37       346\n",
            "weighted avg       0.75      0.81      0.78       346\n",
            "\n"
          ],
          "name": "stdout"
        },
        {
          "output_type": "stream",
          "text": [
            "/usr/local/lib/python3.6/dist-packages/sklearn/metrics/_classification.py:1272: UndefinedMetricWarning: Precision and F-score are ill-defined and being set to 0.0 in labels with no predicted samples. Use `zero_division` parameter to control this behavior.\n",
            "  _warn_prf(average, modifier, msg_start, len(result))\n"
          ],
          "name": "stderr"
        }
      ]
    },
    {
      "cell_type": "markdown",
      "metadata": {
        "id": "yaoQfFIAWwc9"
      },
      "source": [
        "### Accuracy is 81% with Entropy :)"
      ]
    },
    {
      "cell_type": "markdown",
      "metadata": {
        "id": "2AAjoUqaW3Wr"
      },
      "source": [
        "## Applying KNN for the same dataset"
      ]
    },
    {
      "cell_type": "code",
      "metadata": {
        "colab": {
          "base_uri": "https://localhost:8080/"
        },
        "id": "4CEFToxsWsqD",
        "outputId": "c403fbbe-53ec-4215-dd72-3b393074acf5"
      },
      "source": [
        "classifier = KNeighborsClassifier(n_neighbors=5)\n",
        "classifier.fit(X_train, y_train)\n",
        "pred_knn = classifier.predict(X_test)\n",
        "\n",
        "print(metrics.classification_report(y_test, pred_knn))\n",
        "print(metrics.confusion_matrix(y_test, pred_knn))"
      ],
      "execution_count": 26,
      "outputs": [
        {
          "output_type": "stream",
          "text": [
            "              precision    recall  f1-score   support\n",
            "\n",
            "           1       0.98      0.98      0.98       245\n",
            "           2       0.93      0.91      0.92        76\n",
            "           3       0.88      0.88      0.88         8\n",
            "           4       1.00      1.00      1.00        17\n",
            "\n",
            "    accuracy                           0.97       346\n",
            "   macro avg       0.95      0.94      0.94       346\n",
            "weighted avg       0.97      0.97      0.97       346\n",
            "\n",
            "[[241   4   0   0]\n",
            " [  6  69   1   0]\n",
            " [  0   1   7   0]\n",
            " [  0   0   0  17]]\n"
          ],
          "name": "stdout"
        }
      ]
    },
    {
      "cell_type": "markdown",
      "metadata": {
        "id": "AVnXF-XZXAWH"
      },
      "source": [
        "### Accuracy is 97% for KNN\n",
        "\n"
      ]
    },
    {
      "cell_type": "markdown",
      "metadata": {
        "id": "PPevznHCXF4N"
      },
      "source": [
        "## Logistic Regression"
      ]
    },
    {
      "cell_type": "code",
      "metadata": {
        "colab": {
          "base_uri": "https://localhost:8080/"
        },
        "id": "XdpcwveEXFZp",
        "outputId": "4647387f-ec76-440c-a315-230f079342b4"
      },
      "source": [
        "clf = LogisticRegression(random_state=0).fit(X_train, y_train)\n",
        "pred_log = clf.predict(X_test)\n",
        "\n",
        "print(metrics.classification_report(y_test, pred_log))\n",
        "print(metrics.confusion_matrix(y_test, pred_log))"
      ],
      "execution_count": 27,
      "outputs": [
        {
          "output_type": "stream",
          "text": [
            "              precision    recall  f1-score   support\n",
            "\n",
            "           1       0.91      0.93      0.92       245\n",
            "           2       0.71      0.67      0.69        76\n",
            "           3       0.50      0.50      0.50         8\n",
            "           4       0.93      0.76      0.84        17\n",
            "\n",
            "    accuracy                           0.86       346\n",
            "   macro avg       0.76      0.72      0.74       346\n",
            "weighted avg       0.86      0.86      0.86       346\n",
            "\n",
            "[[229  14   2   0]\n",
            " [ 23  51   1   1]\n",
            " [  0   4   4   0]\n",
            " [  0   3   1  13]]\n"
          ],
          "name": "stdout"
        },
        {
          "output_type": "stream",
          "text": [
            "/usr/local/lib/python3.6/dist-packages/sklearn/linear_model/_logistic.py:940: ConvergenceWarning: lbfgs failed to converge (status=1):\n",
            "STOP: TOTAL NO. of ITERATIONS REACHED LIMIT.\n",
            "\n",
            "Increase the number of iterations (max_iter) or scale the data as shown in:\n",
            "    https://scikit-learn.org/stable/modules/preprocessing.html\n",
            "Please also refer to the documentation for alternative solver options:\n",
            "    https://scikit-learn.org/stable/modules/linear_model.html#logistic-regression\n",
            "  extra_warning_msg=_LOGISTIC_SOLVER_CONVERGENCE_MSG)\n"
          ],
          "name": "stderr"
        }
      ]
    },
    {
      "cell_type": "markdown",
      "metadata": {
        "id": "jfrSwRK8XMzJ"
      },
      "source": [
        "#### Accuracy is 86% here"
      ]
    },
    {
      "cell_type": "markdown",
      "metadata": {
        "id": "__qcIEg5XRWR"
      },
      "source": [
        "## Comparison of the Models\n",
        "### Comparing the models against their accuracy scores\n",
        "\n"
      ]
    },
    {
      "cell_type": "code",
      "metadata": {
        "colab": {
          "base_uri": "https://localhost:8080/"
        },
        "id": "M3nPcnQcW9ZS",
        "outputId": "a39d9f1d-ae15-41bd-90f8-fee517410370"
      },
      "source": [
        "print(\" Decision Tree \\t : \",accuracy_score(y_test,pred_dt), \"\\n Knn \\t \\t: \",accuracy_score(y_test,pred_knn),\"\\n Log Reg \\t\\t: \",accuracy_score(y_test,pred_log))"
      ],
      "execution_count": 31,
      "outputs": [
        {
          "output_type": "stream",
          "text": [
            " Decision Tree \t :  0.8092485549132948 \n",
            " Knn \t \t:  0.9653179190751445 \n",
            " Log Reg \t\t:  0.8583815028901735\n"
          ],
          "name": "stdout"
        }
      ]
    },
    {
      "cell_type": "markdown",
      "metadata": {
        "id": "G0KDkQ9OXvmB"
      },
      "source": [
        "## KNN > LogisticRegression > DecisionTree\n",
        "According to final standing after strict accuracy tests\n",
        "\n"
      ]
    },
    {
      "cell_type": "code",
      "metadata": {
        "id": "G7xye8j7Xbve"
      },
      "source": [
        ""
      ],
      "execution_count": null,
      "outputs": []
    }
  ]
}